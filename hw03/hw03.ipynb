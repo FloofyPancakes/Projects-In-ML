{
  "cells": [
    {
      "cell_type": "markdown",
      "id": "4e3f9dfc",
      "metadata": {},
      "source": [
        "# Multi Layered Perception Neural Network"
      ]
    },
    {
      "cell_type": "markdown",
      "id": "5cc4770f-7aac-4d16-9247-35b01ed82d27",
      "metadata": {
        "id": "5cc4770f-7aac-4d16-9247-35b01ed82d27"
      },
      "source": [
        "### Import libraries"
      ]
    },
    {
      "cell_type": "code",
      "execution_count": 1,
      "id": "c8024300-2c36-4ee4-9e7c-88f4e7e6fccf",
      "metadata": {
        "id": "c8024300-2c36-4ee4-9e7c-88f4e7e6fccf"
      },
      "outputs": [],
      "source": [
        "import torch\n",
        "import torch.nn as nn\n",
        "import torch.nn.functional as F\n",
        "import torch.optim as optim\n",
        "import torch.utils.data as du\n",
        "from torch.utils.data import Dataset\n",
        "import pandas as pd\n",
        "from torch.utils.data import Dataset\n",
        "import numpy as np\n",
        "import matplotlib.pyplot as plt\n",
        "from sklearn.metrics import recall_score\n",
        "from sklearn.linear_model import LogisticRegression\n",
        "import warnings  \n",
        "import sklearn.exceptions as skex\n",
        "warnings.simplefilter(\"ignore\", category = skex.ConvergenceWarning)"
      ]
    },
    {
      "cell_type": "markdown",
      "id": "877e98c2",
      "metadata": {},
      "source": [
        "### Reading in Dataset"
      ]
    },
    {
      "cell_type": "code",
      "execution_count": 2,
      "id": "d8eaba3c",
      "metadata": {
        "colab": {
          "base_uri": "https://localhost:8080/",
          "height": 206
        },
        "id": "d8eaba3c",
        "outputId": "54e06aad-7a5d-4967-ddd2-18b189abd07d"
      },
      "outputs": [
        {
          "data": {
            "text/html": [
              "<div>\n",
              "<style scoped>\n",
              "    .dataframe tbody tr th:only-of-type {\n",
              "        vertical-align: middle;\n",
              "    }\n",
              "\n",
              "    .dataframe tbody tr th {\n",
              "        vertical-align: top;\n",
              "    }\n",
              "\n",
              "    .dataframe thead th {\n",
              "        text-align: right;\n",
              "    }\n",
              "</style>\n",
              "<table border=\"1\" class=\"dataframe\">\n",
              "  <thead>\n",
              "    <tr style=\"text-align: right;\">\n",
              "      <th></th>\n",
              "      <th>Temperature[C]</th>\n",
              "      <th>Humidity[%]</th>\n",
              "      <th>TVOC[ppb]</th>\n",
              "      <th>eCO2[ppm]</th>\n",
              "      <th>Raw H2</th>\n",
              "      <th>Raw Ethanol</th>\n",
              "      <th>Pressure[hPa]</th>\n",
              "      <th>PM1.0</th>\n",
              "      <th>PM2.5</th>\n",
              "      <th>NC0.5</th>\n",
              "      <th>NC1.0</th>\n",
              "      <th>NC2.5</th>\n",
              "      <th>CNT</th>\n",
              "      <th>Fire Alarm</th>\n",
              "    </tr>\n",
              "  </thead>\n",
              "  <tbody>\n",
              "    <tr>\n",
              "      <th>0</th>\n",
              "      <td>20.000</td>\n",
              "      <td>57.36</td>\n",
              "      <td>0</td>\n",
              "      <td>400</td>\n",
              "      <td>12306</td>\n",
              "      <td>18520</td>\n",
              "      <td>939.735</td>\n",
              "      <td>0.0</td>\n",
              "      <td>0.0</td>\n",
              "      <td>0.0</td>\n",
              "      <td>0.0</td>\n",
              "      <td>0.0</td>\n",
              "      <td>0</td>\n",
              "      <td>0</td>\n",
              "    </tr>\n",
              "    <tr>\n",
              "      <th>1</th>\n",
              "      <td>20.015</td>\n",
              "      <td>56.67</td>\n",
              "      <td>0</td>\n",
              "      <td>400</td>\n",
              "      <td>12345</td>\n",
              "      <td>18651</td>\n",
              "      <td>939.744</td>\n",
              "      <td>0.0</td>\n",
              "      <td>0.0</td>\n",
              "      <td>0.0</td>\n",
              "      <td>0.0</td>\n",
              "      <td>0.0</td>\n",
              "      <td>1</td>\n",
              "      <td>0</td>\n",
              "    </tr>\n",
              "    <tr>\n",
              "      <th>2</th>\n",
              "      <td>20.029</td>\n",
              "      <td>55.96</td>\n",
              "      <td>0</td>\n",
              "      <td>400</td>\n",
              "      <td>12374</td>\n",
              "      <td>18764</td>\n",
              "      <td>939.738</td>\n",
              "      <td>0.0</td>\n",
              "      <td>0.0</td>\n",
              "      <td>0.0</td>\n",
              "      <td>0.0</td>\n",
              "      <td>0.0</td>\n",
              "      <td>2</td>\n",
              "      <td>0</td>\n",
              "    </tr>\n",
              "    <tr>\n",
              "      <th>3</th>\n",
              "      <td>20.044</td>\n",
              "      <td>55.28</td>\n",
              "      <td>0</td>\n",
              "      <td>400</td>\n",
              "      <td>12390</td>\n",
              "      <td>18849</td>\n",
              "      <td>939.736</td>\n",
              "      <td>0.0</td>\n",
              "      <td>0.0</td>\n",
              "      <td>0.0</td>\n",
              "      <td>0.0</td>\n",
              "      <td>0.0</td>\n",
              "      <td>3</td>\n",
              "      <td>0</td>\n",
              "    </tr>\n",
              "    <tr>\n",
              "      <th>4</th>\n",
              "      <td>20.059</td>\n",
              "      <td>54.69</td>\n",
              "      <td>0</td>\n",
              "      <td>400</td>\n",
              "      <td>12403</td>\n",
              "      <td>18921</td>\n",
              "      <td>939.744</td>\n",
              "      <td>0.0</td>\n",
              "      <td>0.0</td>\n",
              "      <td>0.0</td>\n",
              "      <td>0.0</td>\n",
              "      <td>0.0</td>\n",
              "      <td>4</td>\n",
              "      <td>0</td>\n",
              "    </tr>\n",
              "  </tbody>\n",
              "</table>\n",
              "</div>"
            ],
            "text/plain": [
              "   Temperature[C]  Humidity[%]  TVOC[ppb]  eCO2[ppm]  Raw H2  Raw Ethanol  \\\n",
              "0          20.000        57.36          0        400   12306        18520   \n",
              "1          20.015        56.67          0        400   12345        18651   \n",
              "2          20.029        55.96          0        400   12374        18764   \n",
              "3          20.044        55.28          0        400   12390        18849   \n",
              "4          20.059        54.69          0        400   12403        18921   \n",
              "\n",
              "   Pressure[hPa]  PM1.0  PM2.5  NC0.5  NC1.0  NC2.5  CNT  Fire Alarm  \n",
              "0        939.735    0.0    0.0    0.0    0.0    0.0    0           0  \n",
              "1        939.744    0.0    0.0    0.0    0.0    0.0    1           0  \n",
              "2        939.738    0.0    0.0    0.0    0.0    0.0    2           0  \n",
              "3        939.736    0.0    0.0    0.0    0.0    0.0    3           0  \n",
              "4        939.744    0.0    0.0    0.0    0.0    0.0    4           0  "
            ]
          },
          "execution_count": 2,
          "metadata": {},
          "output_type": "execute_result"
        }
      ],
      "source": [
        "'''\n",
        "The goal of this project is to create a simple MLP neural network smoke detector. This task can be reduced down to a \n",
        "binary classification problem that outputs a binary label where 1 means smoke is detected, and 0 \n",
        "means no smoke is detected. \n",
        "I will be using a smoke detection dataset found here, https://www.kaggle.com/datasets/deepcontractor/smoke-detection-dataset.\n",
        "This dataset contains 13 features that represents \n",
        "''' \n",
        "df = pd.read_csv(\"smoke_detection_iot.csv\")\n",
        "df = df.dropna()\n",
        "df = df.drop([\"Unnamed: 0\", \"UTC\"], axis = 1)\n",
        "df.head()"
      ]
    },
    {
      "cell_type": "markdown",
      "id": "9fd2dcb7",
      "metadata": {},
      "source": [
        "### Converting dataframe to numpy arrays"
      ]
    },
    {
      "cell_type": "code",
      "execution_count": 3,
      "id": "df18a9bd",
      "metadata": {},
      "outputs": [
        {
          "name": "stdout",
          "output_type": "stream",
          "text": [
            "shape of train data: (50104, 14)\n",
            "shape of validation data: (6263, 14)\n",
            "shape of test data: (6263, 14)\n"
          ]
        }
      ],
      "source": [
        "df = df.sample(frac=1)\n",
        "data = df.values.astype(\"float32\")\n",
        "train_data = data[:int(data.shape[0] * .8)]\n",
        "valid_data = data[int(data.shape[0] * .8):int(data.shape[0] * .9)]\n",
        "test_data = data[int(data.shape[0] * .9):]\n",
        "print(f\"shape of train data: {train_data.shape}\")\n",
        "print(f\"shape of validation data: {valid_data.shape}\")\n",
        "print(f\"shape of test data: {test_data.shape}\")"
      ]
    },
    {
      "cell_type": "markdown",
      "id": "4e0db262",
      "metadata": {},
      "source": [
        "### Building Dataset class"
      ]
    },
    {
      "cell_type": "code",
      "execution_count": 4,
      "id": "441c9d2f",
      "metadata": {},
      "outputs": [],
      "source": [
        "class smoke_detection_data(Dataset):\n",
        "    def __init__(self, data):\n",
        "        super(smoke_detection_data, self).__init__()\n",
        "        self.data = data\n",
        "\n",
        "    def __len__(self):\n",
        "        '''return len of dataset'''\n",
        "        return self.data.shape[0]\n",
        "    def __getitem__(self, idx):\n",
        "        '''return data, label'''\n",
        "        return self.data[idx,:-1], self.data[idx,-1]"
      ]
    },
    {
      "cell_type": "markdown",
      "id": "93c3036a-d4ac-42f5-bb56-3f8f2a3e6727",
      "metadata": {
        "id": "93c3036a-d4ac-42f5-bb56-3f8f2a3e6727"
      },
      "source": [
        "### Define MLP model"
      ]
    },
    {
      "cell_type": "code",
      "execution_count": 5,
      "id": "20ddd8c2-cf48-45c4-8656-9609c04a519e",
      "metadata": {
        "id": "20ddd8c2-cf48-45c4-8656-9609c04a519e"
      },
      "outputs": [],
      "source": [
        "class MLP(nn.Module):\n",
        "    '''\n",
        "    code for using pytorch was taken from Prof Zaki's Machine Learning\n",
        "    in BioInformatics class. I did not need outside resources other than \n",
        "    his starter boilerplate code and the code I wrote for his class. \n",
        "    '''\n",
        "    def __init__(self, in_dim, hidden_dim, out_dim, num_layers=2, dropout=.5):\n",
        "        '''\n",
        "           in_dim: input layer dim\n",
        "           hidden_dim: hidden layer dim\n",
        "           out_dim: output layer dim\n",
        "           num_layers: number of linear layers\n",
        "           dropout: percent to dropout for each dropout layer\n",
        "        '''\n",
        "        \n",
        "        super(MLP, self).__init__()\n",
        "        assert(num_layers >= 2)  # model cant have less than 2 layers\n",
        "        self.in_layer = nn.Linear(in_dim, hidden_dim)\n",
        "        self.layers = nn.ModuleList([nn.Linear(hidden_dim, hidden_dim) for i in range(num_layers-2)]) \n",
        "        self.dropouts = nn.ModuleList([nn.Dropout(p=dropout) for i in range(num_layers-2)])\n",
        "        self.out_layer = nn.Linear(hidden_dim, out_dim)\n",
        "\n",
        "    def forward(self, x):\n",
        "        '''\n",
        "        ReLU activation will be applied to all layers except last layer. No activation function will be applied to \n",
        "        last layer since BCE loss function applies sigmoid. Dropout layers will be applied to all layers except first\n",
        "        and layer linear layer\n",
        "        '''\n",
        "        x = F.relu(self.in_layer(x))\n",
        "        for l, d in zip(self.layers, self.dropouts): \n",
        "            x = d(F.relu(l(x))) \n",
        "        x = self.out_layer(x)  \n",
        "        return x"
      ]
    },
    {
      "cell_type": "markdown",
      "id": "19109927-87a6-45fb-85c5-d5bd16e0e847",
      "metadata": {
        "id": "19109927-87a6-45fb-85c5-d5bd16e0e847"
      },
      "source": [
        "### Set up training"
      ]
    },
    {
      "cell_type": "code",
      "execution_count": 6,
      "id": "3fbd31a8-6919-4e9b-acc9-82575f284b6b",
      "metadata": {
        "colab": {
          "base_uri": "https://localhost:8080/"
        },
        "id": "3fbd31a8-6919-4e9b-acc9-82575f284b6b",
        "outputId": "794e431c-c18f-44a8-a62d-984afc539c43"
      },
      "outputs": [
        {
          "name": "stdout",
          "output_type": "stream",
          "text": [
            "using device: cuda:0\n"
          ]
        },
        {
          "data": {
            "text/plain": [
              "MLP(\n",
              "  (in_layer): Linear(in_features=13, out_features=7, bias=True)\n",
              "  (layers): ModuleList(\n",
              "    (0): Linear(in_features=7, out_features=7, bias=True)\n",
              "    (1): Linear(in_features=7, out_features=7, bias=True)\n",
              "    (2): Linear(in_features=7, out_features=7, bias=True)\n",
              "    (3): Linear(in_features=7, out_features=7, bias=True)\n",
              "    (4): Linear(in_features=7, out_features=7, bias=True)\n",
              "  )\n",
              "  (dropouts): ModuleList(\n",
              "    (0): Dropout(p=0.1, inplace=False)\n",
              "    (1): Dropout(p=0.1, inplace=False)\n",
              "    (2): Dropout(p=0.1, inplace=False)\n",
              "    (3): Dropout(p=0.1, inplace=False)\n",
              "    (4): Dropout(p=0.1, inplace=False)\n",
              "  )\n",
              "  (out_layer): Linear(in_features=7, out_features=1, bias=True)\n",
              ")"
            ]
          },
          "execution_count": 6,
          "metadata": {},
          "output_type": "execute_result"
        }
      ],
      "source": [
        "# model will be trained on gpu if it is available, otherwise training will be done on cpu\n",
        "device = f'cuda:0' if torch.cuda.is_available() else 'cpu'  \n",
        "print(f\"using device: {device}\")\n",
        "\n",
        "# hyper parameters\n",
        "batch_size = 512\n",
        "learning_rate = 0.001\n",
        "max_epochs = 1000 # early stopping will prevent training from every reaching max_epochs\n",
        "in_dim = 13\n",
        "hidden_dim = 7\n",
        "output_dim = 1\n",
        "num_layers = 7\n",
        "dropout = .1\n",
        "\n",
        "# initializing model and optimizer\n",
        "model = MLP(in_dim, hidden_dim, output_dim, num_layers, dropout)\n",
        "optimizer = optim.Adam(model.parameters(), lr=learning_rate)\n",
        "\n",
        "# load dataset into a dataloader to send out data in batches\n",
        "train_loader = du.DataLoader(dataset=smoke_detection_data(train_data),\n",
        "                             batch_size=batch_size,\n",
        "                             shuffle=True)\n",
        "valid_loader = du.DataLoader(dataset=smoke_detection_data(valid_data),\n",
        "                             batch_size=batch_size,\n",
        "                             shuffle=True)\n",
        "test_loader = du.DataLoader(dataset=smoke_detection_data(test_data),\n",
        "                             batch_size=batch_size,\n",
        "                             shuffle=True)\n",
        "# send model over to device\n",
        "model = model.to(device)\n",
        "model.train()"
      ]
    },
    {
      "cell_type": "markdown",
      "id": "79fb1cbe-2d79-4554-9a69-edad36523645",
      "metadata": {
        "id": "79fb1cbe-2d79-4554-9a69-edad36523645"
      },
      "source": [
        "### Training loop + Validation step"
      ]
    },
    {
      "cell_type": "code",
      "execution_count": 7,
      "id": "e1c2933d-a886-4639-8a1c-c331b99af143",
      "metadata": {
        "colab": {
          "base_uri": "https://localhost:8080/",
          "height": 441
        },
        "id": "e1c2933d-a886-4639-8a1c-c331b99af143",
        "outputId": "bdfb02bf-d606-4806-f333-6b9de0fcc53c"
      },
      "outputs": [
        {
          "name": "stdout",
          "output_type": "stream",
          "text": [
            "Epoch: 1, Loss: 0.001636, Validation Loss: 0.001229, Validation Accuracy : 0.725052, Valication Recall Score: 0.999780\n",
            "Epoch: 2, Loss: 0.001182, Validation Loss: 0.001150, Validation Accuracy : 0.727607, Valication Recall Score: 0.999789\n",
            "Epoch: 3, Loss: 0.001076, Validation Loss: 0.000985, Validation Accuracy : 0.732237, Valication Recall Score: 0.999794\n",
            "Epoch: 4, Loss: 0.000949, Validation Loss: 0.000768, Validation Accuracy : 0.734153, Valication Recall Score: 0.999370\n",
            "Epoch: 5, Loss: 0.000812, Validation Loss: 0.000627, Validation Accuracy : 0.736867, Valication Recall Score: 0.999348\n",
            "Epoch: 6, Loss: 0.000688, Validation Loss: 0.000529, Validation Accuracy : 0.838256, Valication Recall Score: 0.998544\n",
            "Epoch: 7, Loss: 0.000594, Validation Loss: 0.000465, Validation Accuracy : 0.951780, Valication Recall Score: 0.947990\n",
            "Epoch: 8, Loss: 0.000479, Validation Loss: 0.000310, Validation Accuracy : 0.939805, Valication Recall Score: 0.922316\n",
            "Epoch: 9, Loss: 0.000315, Validation Loss: 0.000215, Validation Accuracy : 0.957528, Valication Recall Score: 0.948454\n",
            "Epoch: 10, Loss: 0.000263, Validation Loss: 0.000178, Validation Accuracy : 0.968066, Valication Recall Score: 0.958998\n",
            "Epoch: 11, Loss: 0.000223, Validation Loss: 0.000143, Validation Accuracy : 0.973016, Valication Recall Score: 0.970683\n",
            "Epoch: 12, Loss: 0.000200, Validation Loss: 0.000120, Validation Accuracy : 0.977327, Valication Recall Score: 0.977022\n",
            "Epoch: 13, Loss: 0.000169, Validation Loss: 0.000098, Validation Accuracy : 0.978445, Valication Recall Score: 0.977053\n",
            "Epoch: 14, Loss: 0.000155, Validation Loss: 0.000095, Validation Accuracy : 0.980680, Valication Recall Score: 0.980704\n",
            "Epoch: 15, Loss: 0.000142, Validation Loss: 0.000088, Validation Accuracy : 0.988185, Valication Recall Score: 0.995069\n",
            "Epoch: 16, Loss: 0.000137, Validation Loss: 0.000084, Validation Accuracy : 0.988185, Valication Recall Score: 0.992660\n",
            "Epoch: 17, Loss: 0.000131, Validation Loss: 0.000069, Validation Accuracy : 0.987546, Valication Recall Score: 0.990240\n",
            "Epoch: 18, Loss: 0.000115, Validation Loss: 0.000084, Validation Accuracy : 0.989302, Valication Recall Score: 0.996289\n"
          ]
        }
      ],
      "source": [
        "last_loss = np.inf\n",
        "train_loss_list = []\n",
        "valid_loss_list = []\n",
        "valid_acc_list = []\n",
        "recall_list = []\n",
        "epoch_list = []\n",
        "# iterating through all epochs\n",
        "for epoch in range(1, max_epochs + 1):    \n",
        "    epoch_list.append(epoch)\n",
        "    # training step\n",
        "    train_loss = 0.\n",
        "    model.train()\n",
        "    # iterating through entire dataset in batches\n",
        "    for batch_idx, (data, target) in enumerate(train_loader):\n",
        "        # sending batch over to device\n",
        "        data, target = data.to(device), target.to(device)\n",
        "        # zeroing out previous gradients\n",
        "        optimizer.zero_grad()\n",
        "        # getting predictions from model\n",
        "        pred = model(data)[:,0]\n",
        "        # calculating BCE loss between predictions and labels\n",
        "        loss = F.binary_cross_entropy_with_logits(pred, target)\n",
        "        train_loss += loss.item()\n",
        "        # calculating backprop and using an adam optimizer for update step \n",
        "        loss.backward()\n",
        "        optimizer.step()\n",
        "    \n",
        "    # validation step\n",
        "    valid_loss = 0\n",
        "    valid_acc = 0\n",
        "    epoch_recall_list = []\n",
        "    # turning off grad and dropout layers for evaluation step\n",
        "    model.eval()\n",
        "    with torch.no_grad():\n",
        "        for batch_idx, (data, target) in enumerate(valid_loader):\n",
        "            data, target = data.to(device), target.to(device)\n",
        "            pred = model(data)[:,0]\n",
        "            loss = F.binary_cross_entropy_with_logits(pred, target)\n",
        "            valid_loss += loss.item()\n",
        "            # applying sigmoid activation to predictions to squash them between 0 and 1\n",
        "            pred = torch.sigmoid(pred)\n",
        "            # rounding predictions to convert probabilities to binary labels\n",
        "            pred = torch.round(pred)\n",
        "            # calcualting accuracy\n",
        "            valid_acc += torch.sum(pred == target).float()\n",
        "            epoch_recall_list.append(recall_score(target.tolist(), pred.tolist()))\n",
        "            \n",
        "    # calculating average loss, accuracy, and recall score \n",
        "    train_loss /= len(train_loader.dataset)\n",
        "    valid_loss /= len(valid_loader.dataset)\n",
        "    valid_acc /= len(valid_loader.dataset) \n",
        "    recall = sum(epoch_recall_list) / len(epoch_recall_list)\n",
        "    train_loss_list.append(train_loss)\n",
        "    valid_loss_list.append(valid_loss)\n",
        "    recall_list.append(recall)\n",
        "    valid_acc_list.append(valid_acc.to(\"cpu\"))\n",
        "\n",
        "    # printing loss, accuracy, and recall per epoch\n",
        "    print(f'Epoch: {epoch}, Loss: {train_loss:.6f}, Validation Loss: {valid_loss:.6f}, Validation Accuracy : {valid_acc:.6f}, Valication Recall Score: {recall:.6f}')\n",
        "    # if previous loss is less than current loss, end training (Early Stopping)\n",
        "    if(valid_loss <= last_loss):\n",
        "        last_loss = valid_loss\n",
        "    else:\n",
        "        break"
      ]
    },
    {
      "cell_type": "markdown",
      "id": "2fa6b5a2",
      "metadata": {},
      "source": [
        "### Plotting loss"
      ]
    },
    {
      "cell_type": "code",
      "execution_count": 8,
      "id": "pu-wCx1czvxj",
      "metadata": {
        "id": "pu-wCx1czvxj"
      },
      "outputs": [
        {
          "data": {
            "text/plain": [
              "<matplotlib.legend.Legend at 0x193bbb64e20>"
            ]
          },
          "execution_count": 8,
          "metadata": {},
          "output_type": "execute_result"
        },
        {
          "data": {
            "image/png": "[encoded data removed]",
            "text/plain": [
              "<Figure size 640x480 with 1 Axes>"
            ]
          },
          "metadata": {},
          "output_type": "display_data"
        }
      ],
      "source": [
        "plt.plot(epoch_list, train_loss_list, label=\"train loss\")\n",
        "plt.plot(epoch_list, valid_loss_list, label=\"valid loss\")\n",
        "plt.legend()"
      ]
    },
    {
      "cell_type": "markdown",
      "id": "c7c95a9a",
      "metadata": {},
      "source": [
        "### Plotting Accruacy and Recall per epoch"
      ]
    },
    {
      "cell_type": "code",
      "execution_count": 9,
      "id": "8b4cad7a",
      "metadata": {},
      "outputs": [
        {
          "data": {
            "text/plain": [
              "<matplotlib.legend.Legend at 0x193bbb27220>"
            ]
          },
          "execution_count": 9,
          "metadata": {},
          "output_type": "execute_result"
        },
        {
          "data": {
            "image/png": "[encoded data removed]",
            "text/plain": [
              "<Figure size 640x480 with 1 Axes>"
            ]
          },
          "metadata": {},
          "output_type": "display_data"
        }
      ],
      "source": [
        "plt.plot(epoch_list, valid_acc_list, label=\"validation accuracy\")\n",
        "plt.plot(epoch_list, recall_list, label=\"validation recall\")\n",
        "plt.legend()"
      ]
    },
    {
      "cell_type": "markdown",
      "id": "d949453a",
      "metadata": {},
      "source": [
        "### Testing model on new data"
      ]
    },
    {
      "cell_type": "code",
      "execution_count": 10,
      "id": "a0ad3c7d",
      "metadata": {},
      "outputs": [
        {
          "name": "stdout",
          "output_type": "stream",
          "text": [
            "Test Loss: 0.000083, Test Accuracy: 0.988344, Test Recall Score: 0.997662\n"
          ]
        }
      ],
      "source": [
        "# testing model on test dataset\n",
        "test_loss = 0\n",
        "test_acc = 0\n",
        "recall_list = []\n",
        "model.eval()\n",
        "with torch.no_grad():\n",
        "    for batch_idx, (data, target) in enumerate(test_loader):\n",
        "        data, target = data.to(device), target.to(device)\n",
        "        pred = model(data)[:,0]\n",
        "        loss = F.binary_cross_entropy_with_logits(pred, target)\n",
        "        test_loss += loss.item()\n",
        "        pred = torch.sigmoid(pred)\n",
        "        pred = torch.round(pred)\n",
        "        test_acc += torch.sum(pred == target).float()\n",
        "        recall_list.append(recall_score(target.cpu(), pred.cpu()))\n",
        "# average loss per example\n",
        "test_loss /= len(test_loader.dataset)\n",
        "test_acc /= len(test_loader.dataset) \n",
        "recall = sum(recall_list) / len(recall_list)\n",
        "print(f'Test Loss: {test_loss:.6f}, Test Accuracy: {test_acc:.6f}, Test Recall Score: {recall:.6f}')"
      ]
    },
    {
      "cell_type": "markdown",
      "id": "82b3bafe",
      "metadata": {},
      "source": [
        "## Task 3\n",
        "I chose my hyperparameters using a binary search strategy where I \n",
        "would choose two relative extremes for each parameter and train \n",
        "the model on the parmeters to see how fast the model converged, \n",
        "how stable the training was, and how prone to overfitting it was.\n",
        "For instance, I found that a learning rate of 0.01 would caught the model\n",
        "to suffer from exploding gradient, which a learning rate of 0.000001 would \n",
        "cause the model to not learn at all. For regularization, I used early stopping \n",
        "and dropout layers because training for the mlp was unstable and extremly prone to \n",
        "overfit. By using early stopping and dropout layers in almost every linear layer of the \n",
        "model, I significantly improved the stability of the training loop. After using the \n",
        "adam optimizer, I found that the model converged faster and was training was more stabalized\n",
        "when compared to before.\n",
        "\n",
        "\n"
      ]
    },
    {
      "cell_type": "markdown",
      "id": "ec4d3c04",
      "metadata": {},
      "source": [
        "## Task 4"
      ]
    },
    {
      "cell_type": "markdown",
      "id": "b186823a",
      "metadata": {},
      "source": [
        "## Baseline Model: Logistic Regression"
      ]
    },
    {
      "cell_type": "markdown",
      "id": "0b75be1f",
      "metadata": {},
      "source": [
        "### Training baseline model"
      ]
    },
    {
      "cell_type": "code",
      "execution_count": 11,
      "id": "31ac16e7",
      "metadata": {},
      "outputs": [
        {
          "name": "stdout",
          "output_type": "stream",
          "text": [
            "Validation Accuracy: 0.714514, Recall Score: 1.0\n",
            "Validation Accuracy: 0.735271, Recall Score: 0.9957541899441341\n",
            "Validation Accuracy: 0.923200, Recall Score: 0.9036871508379888\n",
            "Validation Accuracy: 0.919208, Recall Score: 0.895195530726257\n",
            "Validation Accuracy: 0.929586, Recall Score: 0.9121787709497207\n",
            "Validation Accuracy: 0.936931, Recall Score: 0.9284916201117318\n",
            "Validation Accuracy: 0.944276, Recall Score: 0.9396648044692737\n",
            "Validation Accuracy: 0.950184, Recall Score: 0.9481564245810056\n",
            "Validation Accuracy: 0.952898, Recall Score: 0.9524022346368715\n",
            "Validation Accuracy: 0.953537, Recall Score: 0.9557541899441341\n",
            "Validation Accuracy: 0.955772, Recall Score: 0.9597765363128492\n",
            "Validation Accuracy: 0.956570, Recall Score: 0.9570949720670391\n",
            "Validation Accuracy: 0.955932, Recall Score: 0.9593296089385475\n",
            "Validation Accuracy: 0.956890, Recall Score: 0.9608938547486033\n",
            "Validation Accuracy: 0.958965, Recall Score: 0.9637988826815642\n",
            "Validation Accuracy: 0.960722, Recall Score: 0.9664804469273743\n",
            "Validation Accuracy: 0.965192, Recall Score: 0.9678212290502793\n",
            "Validation Accuracy: 0.970781, Recall Score: 0.9684916201117318\n",
            "Validation Accuracy: 0.972058, Recall Score: 0.9700558659217877\n",
            "Validation Accuracy: 0.973176, Recall Score: 0.9727374301675977\n",
            "Validation Accuracy: 0.977008, Recall Score: 0.9745251396648045\n",
            "Validation Accuracy: 0.977646, Recall Score: 0.9756424581005586\n",
            "Validation Accuracy: 0.977327, Recall Score: 0.9749720670391061\n",
            "Validation Accuracy: 0.978764, Recall Score: 0.9767597765363129\n",
            "Validation Accuracy: 0.978924, Recall Score: 0.9769832402234637\n",
            "Validation Accuracy: 0.978764, Recall Score: 0.9769832402234637\n",
            "Validation Accuracy: 0.977806, Recall Score: 0.9758659217877095\n",
            "Validation Accuracy: 0.977806, Recall Score: 0.9756424581005586\n",
            "Validation Accuracy: 0.977806, Recall Score: 0.9756424581005586\n",
            "Validation Accuracy: 0.977806, Recall Score: 0.9756424581005586\n",
            "Validation Accuracy: 0.977646, Recall Score: 0.9756424581005586\n",
            "Validation Accuracy: 0.977646, Recall Score: 0.9756424581005586\n",
            "Validation Accuracy: 0.977646, Recall Score: 0.9756424581005586\n",
            "Validation Accuracy: 0.977966, Recall Score: 0.9760893854748603\n",
            "Validation Accuracy: 0.977966, Recall Score: 0.9760893854748603\n",
            "Validation Accuracy: 0.978285, Recall Score: 0.976536312849162\n",
            "Validation Accuracy: 0.978125, Recall Score: 0.9763128491620112\n",
            "Validation Accuracy: 0.978285, Recall Score: 0.976536312849162\n",
            "Validation Accuracy: 0.978445, Recall Score: 0.9767597765363129\n",
            "Validation Accuracy: 0.978445, Recall Score: 0.9767597765363129\n",
            "Validation Accuracy: 0.978445, Recall Score: 0.9767597765363129\n",
            "Validation Accuracy: 0.978445, Recall Score: 0.9767597765363129\n",
            "Validation Accuracy: 0.978445, Recall Score: 0.9767597765363129\n",
            "Validation Accuracy: 0.978445, Recall Score: 0.9767597765363129\n",
            "Validation Accuracy: 0.978445, Recall Score: 0.9767597765363129\n",
            "Validation Accuracy: 0.978445, Recall Score: 0.9767597765363129\n",
            "Validation Accuracy: 0.978605, Recall Score: 0.9769832402234637\n",
            "Validation Accuracy: 0.978924, Recall Score: 0.9774301675977654\n",
            "Validation Accuracy: 0.979084, Recall Score: 0.9776536312849162\n"
          ]
        }
      ],
      "source": [
        "acc_list = []\n",
        "recall_list = []\n",
        "max_iter_list = []\n",
        "for i in range(1,50):\n",
        "    lr_model = LogisticRegression(random_state=0, max_iter=i)\n",
        "    clf = lr_model.fit(train_data[:,:-1], train_data[:,-1])\n",
        "    pred = clf.predict(valid_data[:,:-1])\n",
        "    print(f\"Validation Accuracy: {np.sum(pred == valid_data[:,-1]) / pred.shape[0]:.6f}, Recall Score: {recall_score(valid_data[:,-1], pred)}\")\n",
        "    max_iter_list.append(i)\n",
        "    acc_list.append(np.sum(pred == valid_data[:,-1]) / pred.shape[0])\n",
        "    recall_list.append(recall_score(valid_data[:,-1], pred))"
      ]
    },
    {
      "cell_type": "markdown",
      "id": "cac15098",
      "metadata": {},
      "source": [
        "### Plotting Baseline model accuracy and recall score"
      ]
    },
    {
      "cell_type": "code",
      "execution_count": 12,
      "id": "45287e9a",
      "metadata": {},
      "outputs": [
        {
          "data": {
            "text/plain": [
              "<matplotlib.legend.Legend at 0x193a30cb700>"
            ]
          },
          "execution_count": 12,
          "metadata": {},
          "output_type": "execute_result"
        },
        {
          "data": {
            "image/png": "[encoded data removed]",
            "text/plain": [
              "<Figure size 640x480 with 1 Axes>"
            ]
          },
          "metadata": {},
          "output_type": "display_data"
        }
      ],
      "source": [
        "plt.plot(max_iter_list, acc_list, label=\"validation accuracy\")\n",
        "plt.plot(max_iter_list, recall_list, label=\"validation recall\")\n",
        "plt.legend()"
      ]
    },
    {
      "cell_type": "code",
      "execution_count": 13,
      "id": "05114ad9",
      "metadata": {},
      "outputs": [
        {
          "name": "stdout",
          "output_type": "stream",
          "text": [
            "Test Accuracy: 0.976050, Recall Score: 0.9758551307847082\n"
          ]
        }
      ],
      "source": [
        "pred = clf.predict(test_data[:,:-1])\n",
        "print(f\"Test Accuracy: {np.sum(pred == test_data[:,-1]) / pred.shape[0]:.6f}, Recall Score: {recall_score(test_data[:,-1], pred)}\")"
      ]
    },
    {
      "cell_type": "markdown",
      "id": "620e3271",
      "metadata": {},
      "source": [
        "### Task 4 Writeup\n",
        "When comparing the MLP model compared to logistic regression, the performance is very similar\n",
        "as both models have an accuracy and recall score of roughly 98%. If I were to pick between \n",
        "the two models, I would choose logistric regression because it had more stable training \n",
        "compared to the MLP, which required optimization functions, and several regularization techniques \n",
        "in order to prevent overfitting and gradient explosion/diminishing problems. In addition, I \n",
        "had to play around with the hyperparameters of the MLP more in order for it to train well.\n",
        "Part of the reason why the MLP was so hard to train is because the labels for the dataset \n",
        "are not balanced. The split between the labels are 1:4, so I had issues in the begining\n",
        "where the MLP would only predict 0 and still achieve an accuracy of 75%.  "
      ]
    }
  ],
  "metadata": {
    "accelerator": "GPU",
    "colab": {
      "provenance": []
    },
    "kernelspec": {
      "display_name": "Python 3.9.7 ('base')",
      "language": "python",
      "name": "python3"
    },
    "language_info": {
      "codemirror_mode": {
        "name": "ipython",
        "version": 3
      },
      "file_extension": ".py",
      "mimetype": "text/x-python",
      "name": "python",
      "nbconvert_exporter": "python",
      "pygments_lexer": "ipython3",
      "version": "3.9.7"
    },
    "vscode": {
      "interpreter": {
        "hash": "0be73a0e6356a5a1c38dc53f1e67790b18ed332d277068fed34d2daa61958429"
      }
    }
  },
  "nbformat": 4,
  "nbformat_minor": 5
}
