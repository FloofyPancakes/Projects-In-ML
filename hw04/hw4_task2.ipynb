{
 "cells": [
  {
   "cell_type": "code",
   "execution_count": 1,
   "metadata": {},
   "outputs": [],
   "source": [
    "import pandas as pd\n",
    "import numpy as np\n",
    "import matplotlib.pyplot as plt"
   ]
  },
  {
   "cell_type": "markdown",
   "metadata": {},
   "source": [
    "### Parsing Embeddings File into Hashmap"
   ]
  },
  {
   "cell_type": "code",
   "execution_count": 108,
   "metadata": {},
   "outputs": [],
   "source": [
    "'''\n",
    "using stanford's pretrained GloVe embeddings,\n",
    "dataset wont be uploaded to github because it is too big\n",
    "https://nlp.stanford.edu/projects/glove/\n",
    "'''\n",
    "\n",
    "embeddings ={}\n",
    "with open(\"datasets/glove.6B/glove.6B.300d.txt\", \"r\", encoding=\"utf-8\") as f: # parsing file and saving each word embedding in a hashmap as {word: embedding}\n",
    "    for line in f:\n",
    "        values = line.split()\n",
    "        embeddings[values[0]] = np.array(values[1:], dtype=\"float32\")"
   ]
  },
  {
   "cell_type": "markdown",
   "metadata": {},
   "source": [
    "### Defining metrics"
   ]
  },
  {
   "cell_type": "code",
   "execution_count": 112,
   "metadata": {},
   "outputs": [],
   "source": [
    "def cosine_similarity(word1, word2, embeddings):\n",
    "    embed1 = embeddings[word1]\n",
    "    embed2 = embeddings[word2]\n",
    "    return np.dot(embed1, embed2) / (np.linalg.norm(embed1) * np.linalg.norm(embed2))\n",
    "\n",
    "def chebyshev_distance(word1, word2, embeddings):\n",
    "    '''\n",
    "    https://towardsdatascience.com/17-types-of-similarity-and-dissimilarity-measures-used-in-data-science-3eb914d2681\n",
    "    this dissimilarity measure is used to find the distance between two vectors,\n",
    "    distance is measured by the max variance between the coordinates,\n",
    "    the lower the score, the better, a score of 0 means the two vectors are identical\n",
    "    '''\n",
    "    embed1 = embeddings[word1]\n",
    "    embed2 = embeddings[word2]\n",
    "    return np.max(np.abs(embed1 - embed2))\n"
   ]
  },
  {
   "cell_type": "code",
   "execution_count": 124,
   "metadata": {},
   "outputs": [],
   "source": [
    "word1 = str(input(\"Input word 1\")) # asking user for input\n",
    "word2 = str(input(\"Input word 1\"))"
   ]
  },
  {
   "cell_type": "markdown",
   "metadata": {},
   "source": [
    "### Computing simiarity and dissimilarity Score"
   ]
  },
  {
   "cell_type": "code",
   "execution_count": 125,
   "metadata": {},
   "outputs": [
    {
     "name": "stdout",
     "output_type": "stream",
     "text": [
      "(dog, cat), has a cosine similarity score of 0.68\n",
      "(dog, cat), has a chebyshev distance of 0.93\n"
     ]
    }
   ],
   "source": [
    "print(f\"({word1}, {word2}), has a cosine similarity score of {cosine_similarity(word1, word2, embeddings):.2f}\")\n",
    "print(f\"({word1}, {word2}), has a chebyshev distance of {chebyshev_distance(word1, word2, embeddings):.2f}\")\n"
   ]
  },
  {
   "cell_type": "code",
   "execution_count": null,
   "metadata": {},
   "outputs": [],
   "source": []
  }
 ],
 "metadata": {
  "kernelspec": {
   "display_name": "Python 3.9.7 ('base')",
   "language": "python",
   "name": "python3"
  },
  "language_info": {
   "codemirror_mode": {
    "name": "ipython",
    "version": 3
   },
   "file_extension": ".py",
   "mimetype": "text/x-python",
   "name": "python",
   "nbconvert_exporter": "python",
   "pygments_lexer": "ipython3",
   "version": "3.9.7"
  },
  "orig_nbformat": 4,
  "vscode": {
   "interpreter": {
    "hash": "0be73a0e6356a5a1c38dc53f1e67790b18ed332d277068fed34d2daa61958429"
   }
  }
 },
 "nbformat": 4,
 "nbformat_minor": 2
}
